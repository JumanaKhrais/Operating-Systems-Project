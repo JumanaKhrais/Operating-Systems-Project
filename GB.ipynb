{
  "cells": [
    {
      "cell_type": "markdown",
      "metadata": {
        "id": "view-in-github",
        "colab_type": "text"
      },
      "source": [
        "<a href=\"https://colab.research.google.com/github/JumanaKhrais/Operating-Systems-Project/blob/main/GB.ipynb\" target=\"_parent\"><img src=\"https://colab.research.google.com/assets/colab-badge.svg\" alt=\"Open In Colab\"/></a>"
      ]
    },
    {
      "cell_type": "code",
      "execution_count": null,
      "metadata": {
        "colab": {
          "base_uri": "https://localhost:8080/"
        },
        "id": "TcV4N1TZHu-u",
        "outputId": "64e4eda3-f59b-40bd-c452-2b56c613f4c7"
      },
      "outputs": [
        {
          "output_type": "stream",
          "name": "stdout",
          "text": [
            "Mounted at /content/drive\n"
          ]
        }
      ],
      "source": [
        "from google.colab import drive \n",
        "drive.mount('/content/drive')"
      ]
    },
    {
      "cell_type": "code",
      "execution_count": null,
      "metadata": {
        "id": "ZFteeYjYIE_z"
      },
      "outputs": [],
      "source": [
        "import pandas as pd\n",
        "import seaborn as sns\n",
        "import matplotlib.pyplot as plt \n",
        "from sklearn import metrics \n",
        "from sklearn.preprocessing import StandardScaler\n",
        "import numpy as np\n"
      ]
    },
    {
      "cell_type": "code",
      "execution_count": null,
      "metadata": {
        "id": "6-fIMW96IIlx"
      },
      "outputs": [],
      "source": [
        "train = pd.read_csv('/content/drive/MyDrive/Jumana/train.csv')\n",
        "test =  pd.read_csv('/content/drive/MyDrive/Jumana/test.csv')\n",
        "trainL =  pd.read_csv('/content/drive/MyDrive/Jumana/trainL.csv')\n",
        "testL =  pd.read_csv('/content/drive/MyDrive/Jumana/testL.csv')"
      ]
    },
    {
      "cell_type": "code",
      "execution_count": null,
      "metadata": {
        "colab": {
          "base_uri": "https://localhost:8080/"
        },
        "id": "f1T2-teII_Ci",
        "outputId": "8912622a-074e-4795-98fe-70a4698d2d6c"
      },
      "outputs": [
        {
          "output_type": "execute_result",
          "data": {
            "text/plain": [
              "(2495998, 22)"
            ]
          },
          "metadata": {},
          "execution_count": 5
        }
      ],
      "source": [
        "train.shape"
      ]
    },
    {
      "cell_type": "code",
      "execution_count": null,
      "metadata": {
        "colab": {
          "base_uri": "https://localhost:8080/"
        },
        "id": "TqOekUTzJBXn",
        "outputId": "90be8c9d-cccd-4d31-e2c5-9b3e8e4240b2"
      },
      "outputs": [
        {
          "output_type": "stream",
          "name": "stdout",
          "text": [
            "<class 'pandas.core.frame.DataFrame'>\n",
            "RangeIndex: 2495998 entries, 0 to 2495997\n",
            "Data columns (total 22 columns):\n",
            " #   Column                   Dtype  \n",
            "---  ------                   -----  \n",
            " 0   Source.IP                int64  \n",
            " 1   Source.Port              int64  \n",
            " 2   Destination.IP           int64  \n",
            " 3   Destination.Port         int64  \n",
            " 4   Protocol                 int64  \n",
            " 5   Flow.Duration            int64  \n",
            " 6   Total.Fwd.Packets        int64  \n",
            " 7   Total.Backward.Packets   int64  \n",
            " 8   Fwd.Packet.Length.Min    int64  \n",
            " 9   Fwd.Packet.Length.Mean   float64\n",
            " 10  Bwd.Packet.Length.Min    int64  \n",
            " 11  Bwd.Packet.Length.Mean   float64\n",
            " 12  Flow.Bytes.s             float64\n",
            " 13  Flow.IAT.Min             int64  \n",
            " 14  Average.Packet.Size      float64\n",
            " 15  Avg.Fwd.Segment.Size     float64\n",
            " 16  Init_Win_bytes_forward   int64  \n",
            " 17  Init_Win_bytes_backward  int64  \n",
            " 18  Active.Mean              float64\n",
            " 19  Active.Std               float64\n",
            " 20  Down.Up.Ratio            int64  \n",
            " 21  L7Protocol               int64  \n",
            "dtypes: float64(7), int64(15)\n",
            "memory usage: 418.9 MB\n"
          ]
        }
      ],
      "source": [
        "train.info()"
      ]
    },
    {
      "cell_type": "code",
      "execution_count": null,
      "metadata": {
        "colab": {
          "base_uri": "https://localhost:8080/"
        },
        "id": "B-LVNGaxm7G6",
        "outputId": "41bb93ca-7c87-4655-d0e4-3e3c7882287a"
      },
      "outputs": [
        {
          "output_type": "execute_result",
          "data": {
            "text/plain": [
              "(1069714, 22)"
            ]
          },
          "metadata": {},
          "execution_count": 7
        }
      ],
      "source": [
        "test.shape"
      ]
    },
    {
      "cell_type": "code",
      "execution_count": null,
      "metadata": {
        "id": "ceV_MvyuJI4i"
      },
      "outputs": [],
      "source": [
        "#Scaling the data\n",
        "SC = StandardScaler()\n",
        "trainScaled = SC.fit_transform(train)\n",
        "#scaling test \n",
        "\n",
        "testScaled=SC.fit_transform(test) "
      ]
    },
    {
      "cell_type": "code",
      "execution_count": null,
      "metadata": {
        "id": "dKrOZZfDLNAK"
      },
      "outputs": [],
      "source": [
        "train['Label'] = trainL"
      ]
    },
    {
      "cell_type": "code",
      "execution_count": null,
      "metadata": {
        "id": "E3x4sDkYLzqb"
      },
      "outputs": [],
      "source": [
        "test['Label']= testL"
      ]
    },
    {
      "cell_type": "code",
      "source": [
        "train.columns"
      ],
      "metadata": {
        "colab": {
          "base_uri": "https://localhost:8080/"
        },
        "id": "7Nqj62PzQZg_",
        "outputId": "f72fd286-e866-4802-a69d-26429f656e99"
      },
      "execution_count": null,
      "outputs": [
        {
          "output_type": "execute_result",
          "data": {
            "text/plain": [
              "Index(['Source.IP', 'Source.Port', 'Destination.IP', 'Destination.Port',\n",
              "       'Protocol', 'Flow.Duration', 'Total.Fwd.Packets',\n",
              "       'Total.Backward.Packets', 'Fwd.Packet.Length.Min',\n",
              "       'Fwd.Packet.Length.Mean', 'Bwd.Packet.Length.Min',\n",
              "       'Bwd.Packet.Length.Mean', 'Flow.Bytes.s', 'Flow.IAT.Min',\n",
              "       'Average.Packet.Size', 'Avg.Fwd.Segment.Size', 'Init_Win_bytes_forward',\n",
              "       'Init_Win_bytes_backward', 'Active.Mean', 'Active.Std', 'Down.Up.Ratio',\n",
              "       'L7Protocol', 'Label'],\n",
              "      dtype='object')"
            ]
          },
          "metadata": {},
          "execution_count": 11
        }
      ]
    },
    {
      "cell_type": "code",
      "execution_count": null,
      "metadata": {
        "id": "Jl8aWyByAw7F"
      },
      "outputs": [],
      "source": [
        "#train the model\n",
        "from sklearn.ensemble import GradientBoostingClassifier\n",
        "from sklearn.tree import DecisionTreeClassifier\n",
        "#Descison tree classifier is the default classifier\n",
        "clf =  GradientBoostingClassifier(n_estimators = 17, learning_rate = .1, max_depth =2 )\n",
        "clf.fit(trainScaled, train['Label']) \n",
        "  "
      ]
    },
    {
      "cell_type": "code",
      "execution_count": null,
      "metadata": {
        "id": "3jDr4ErEmTmq"
      },
      "outputs": [],
      "source": [
        "pred = clf.predict(testScaled)"
      ]
    },
    {
      "cell_type": "code",
      "execution_count": null,
      "metadata": {
        "id": "TmhGrTH2KKtq"
      },
      "outputs": [],
      "source": [
        "print(\"Accuracy\")\n",
        "print(metrics.accuracy_score(testL, pred)) \n",
        "print(\"Macro-Precision\")\n",
        "print(metrics.precision_score(testL, pred, average = 'macro',labels= np.unique(pred)))\n",
        "print(\"Macro-Recall\")\n",
        "print(metrics.recall_score(testL, pred, average = 'macro'))\n",
        "print(\"Macro-F1Score\")\n",
        "print(metrics.f1_score(testL, pred, average = 'macro'))"
      ]
    }
  ],
  "metadata": {
    "accelerator": "TPU",
    "colab": {
      "collapsed_sections": [],
      "machine_shape": "hm",
      "name": "GB.ipynb",
      "provenance": [],
      "include_colab_link": true
    },
    "kernelspec": {
      "display_name": "Python 3",
      "name": "python3"
    },
    "language_info": {
      "name": "python"
    }
  },
  "nbformat": 4,
  "nbformat_minor": 0
}