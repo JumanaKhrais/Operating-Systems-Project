{
  "cells": [
    {
      "cell_type": "markdown",
      "metadata": {
        "id": "view-in-github",
        "colab_type": "text"
      },
      "source": [
        "<a href=\"https://colab.research.google.com/github/JumanaKhrais/Operating-Systems-Project/blob/main/DT.ipynb\" target=\"_parent\"><img src=\"https://colab.research.google.com/assets/colab-badge.svg\" alt=\"Open In Colab\"/></a>"
      ]
    },
    {
      "cell_type": "code",
      "execution_count": null,
      "metadata": {
        "colab": {
          "base_uri": "https://localhost:8080/"
        },
        "id": "TcV4N1TZHu-u",
        "outputId": "424fb594-18e7-4f98-e82f-e1585516d721"
      },
      "outputs": [
        {
          "output_type": "stream",
          "name": "stdout",
          "text": [
            "Mounted at /content/drive\n"
          ]
        }
      ],
      "source": [
        "from google.colab import drive \n",
        "drive.mount('/content/drive')"
      ]
    },
    {
      "cell_type": "code",
      "execution_count": null,
      "metadata": {
        "id": "ZFteeYjYIE_z"
      },
      "outputs": [],
      "source": [
        "import pandas as pd\n",
        "import seaborn as sns\n",
        "import matplotlib.pyplot as plt \n",
        "from sklearn import metrics \n",
        "from sklearn.preprocessing import StandardScaler\n",
        "import numpy as np\n"
      ]
    },
    {
      "cell_type": "code",
      "execution_count": null,
      "metadata": {
        "id": "O8pZh5P2LhEH"
      },
      "outputs": [],
      "source": [
        "train = pd.read_csv('/content/drive/MyDrive/Jumana/train.csv')\n",
        "test =  pd.read_csv('/content/drive/MyDrive/Jumana/test.csv')\n",
        "trainL =  pd.read_csv('/content/drive/MyDrive/Jumana/trainL.csv')\n",
        "testL =  pd.read_csv('/content/drive/MyDrive/Jumana/testL.csv')"
      ]
    },
    {
      "cell_type": "code",
      "execution_count": null,
      "metadata": {
        "colab": {
          "base_uri": "https://localhost:8080/"
        },
        "id": "f1T2-teII_Ci",
        "outputId": "d0981083-b1e0-46e0-de00-aa8823264a0e"
      },
      "outputs": [
        {
          "output_type": "execute_result",
          "data": {
            "text/plain": [
              "(2495998, 22)"
            ]
          },
          "metadata": {},
          "execution_count": 5
        }
      ],
      "source": [
        "train.shape"
      ]
    },
    {
      "cell_type": "code",
      "execution_count": null,
      "metadata": {
        "colab": {
          "base_uri": "https://localhost:8080/"
        },
        "id": "TqOekUTzJBXn",
        "outputId": "d9127909-f30c-4e30-e5f4-1955b283146d"
      },
      "outputs": [
        {
          "output_type": "stream",
          "name": "stdout",
          "text": [
            "<class 'pandas.core.frame.DataFrame'>\n",
            "RangeIndex: 2495998 entries, 0 to 2495997\n",
            "Data columns (total 22 columns):\n",
            " #   Column                   Dtype  \n",
            "---  ------                   -----  \n",
            " 0   Source.IP                int64  \n",
            " 1   Source.Port              int64  \n",
            " 2   Destination.IP           int64  \n",
            " 3   Destination.Port         int64  \n",
            " 4   Protocol                 int64  \n",
            " 5   Flow.Duration            int64  \n",
            " 6   Total.Fwd.Packets        int64  \n",
            " 7   Total.Backward.Packets   int64  \n",
            " 8   Fwd.Packet.Length.Min    int64  \n",
            " 9   Fwd.Packet.Length.Mean   float64\n",
            " 10  Bwd.Packet.Length.Min    int64  \n",
            " 11  Bwd.Packet.Length.Mean   float64\n",
            " 12  Flow.Bytes.s             float64\n",
            " 13  Flow.IAT.Min             int64  \n",
            " 14  Average.Packet.Size      float64\n",
            " 15  Avg.Fwd.Segment.Size     float64\n",
            " 16  Init_Win_bytes_forward   int64  \n",
            " 17  Init_Win_bytes_backward  int64  \n",
            " 18  Active.Mean              float64\n",
            " 19  Active.Std               float64\n",
            " 20  Down.Up.Ratio            int64  \n",
            " 21  L7Protocol               int64  \n",
            "dtypes: float64(7), int64(15)\n",
            "memory usage: 418.9 MB\n"
          ]
        }
      ],
      "source": [
        "train.info()"
      ]
    },
    {
      "cell_type": "code",
      "source": [
        "train.drop(columns=['L7Protocol'], inplace = True)\n",
        "test.drop(columns=['L7Protocol'], inplace = True)\n"
      ],
      "metadata": {
        "id": "kHYiUIVju-GQ"
      },
      "execution_count": null,
      "outputs": []
    },
    {
      "cell_type": "code",
      "execution_count": null,
      "metadata": {
        "id": "ceV_MvyuJI4i"
      },
      "outputs": [],
      "source": [
        "#Scaling the data\n",
        "SC = StandardScaler()\n",
        "trainScaled = SC.fit_transform(train)\n",
        "#scaling test \n",
        "\n",
        "testScaled=SC.fit_transform(test) "
      ]
    },
    {
      "cell_type": "code",
      "execution_count": null,
      "metadata": {
        "id": "dKrOZZfDLNAK"
      },
      "outputs": [],
      "source": [
        "train['Label'] = trainL"
      ]
    },
    {
      "cell_type": "code",
      "execution_count": null,
      "metadata": {
        "id": "E3x4sDkYLzqb"
      },
      "outputs": [],
      "source": [
        "test['Label']= testL"
      ]
    },
    {
      "cell_type": "code",
      "execution_count": null,
      "metadata": {
        "id": "Jl8aWyByAw7F"
      },
      "outputs": [],
      "source": [
        "from sklearn.tree import DecisionTreeClassifier\n",
        "clf = DecisionTreeClassifier(criterion='entropy',max_depth=30, random_state=42)\n",
        "clf.fit(trainScaled, train['Label']) "
      ]
    },
    {
      "cell_type": "code",
      "execution_count": null,
      "metadata": {
        "id": "3jDr4ErEmTmq"
      },
      "outputs": [],
      "source": [
        "pred = clf.predict(testScaled)"
      ]
    },
    {
      "cell_type": "code",
      "execution_count": null,
      "metadata": {
        "id": "TmhGrTH2KKtq"
      },
      "outputs": [],
      "source": [
        "print(\"Accuracy\")\n",
        "print(metrics.accuracy_score(testL, pred)) \n",
        "print(\"Macro-Precision\")\n",
        "print(metrics.precision_score(testL, pred, average = 'macro',labels= np.unique(pred)))\n",
        "print(\"Macro-Recall\")\n",
        "print(metrics.recall_score(testL, pred, average = 'macro'))\n",
        "print(\"Macro-F1Score\")\n",
        "print(metrics.f1_score(testL, pred, average = 'macro'))"
      ]
    },
    {
      "cell_type": "code",
      "execution_count": null,
      "metadata": {
        "id": "W4t3nczVKJvJ",
        "colab": {
          "base_uri": "https://localhost:8080/",
          "height": 35
        },
        "outputId": "6c3168b4-caaa-413c-f48e-ecb6cd2085a9"
      },
      "outputs": [
        {
          "output_type": "execute_result",
          "data": {
            "text/plain": [
              "\"import pickle\\n# save the model to drive\\nfilename = '/content/drive/MyDrive/Jumana/Log.sav'\\npickle.dump(clf, open(filename, 'wb'))\""
            ],
            "application/vnd.google.colaboratory.intrinsic+json": {
              "type": "string"
            }
          },
          "metadata": {},
          "execution_count": 13
        }
      ],
      "source": [
        "\"\"\"import pickle\n",
        "# save the model to drive\n",
        "filename = '/content/drive/MyDrive/Jumana/Log.sav'\n",
        "pickle.dump(clf, open(filename, 'wb'))\"\"\"\n"
      ]
    }
  ],
  "metadata": {
    "accelerator": "TPU",
    "colab": {
      "machine_shape": "hm",
      "name": "DT.ipynb",
      "provenance": [],
      "include_colab_link": true
    },
    "kernelspec": {
      "display_name": "Python 3",
      "name": "python3"
    },
    "language_info": {
      "name": "python"
    }
  },
  "nbformat": 4,
  "nbformat_minor": 0
}