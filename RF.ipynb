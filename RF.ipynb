{
  "cells": [
    {
      "cell_type": "markdown",
      "metadata": {
        "id": "view-in-github",
        "colab_type": "text"
      },
      "source": [
        "<a href=\"https://colab.research.google.com/github/JumanaKhrais/Operating-Systems-Project/blob/main/RF.ipynb\" target=\"_parent\"><img src=\"https://colab.research.google.com/assets/colab-badge.svg\" alt=\"Open In Colab\"/></a>"
      ]
    },
    {
      "cell_type": "code",
      "execution_count": null,
      "metadata": {
        "colab": {
          "base_uri": "https://localhost:8080/"
        },
        "id": "TcV4N1TZHu-u",
        "outputId": "34c2455c-d420-4c5a-c1ce-dffe04fec912"
      },
      "outputs": [
        {
          "output_type": "stream",
          "name": "stdout",
          "text": [
            "Mounted at /content/drive\n"
          ]
        }
      ],
      "source": [
        "from google.colab import drive \n",
        "drive.mount('/content/drive')"
      ]
    },
    {
      "cell_type": "code",
      "execution_count": null,
      "metadata": {
        "id": "ZFteeYjYIE_z"
      },
      "outputs": [],
      "source": [
        "import pandas as pd\n",
        "import seaborn as sns\n",
        "import matplotlib.pyplot as plt \n",
        "from sklearn import metrics \n",
        "from sklearn.preprocessing import StandardScaler\n",
        "import numpy as np\n"
      ]
    },
    {
      "cell_type": "code",
      "source": [
        "train = pd.read_csv('/content/drive/MyDrive/Jumana/train-one-column.csv')\n",
        "test =  pd.read_csv('/content/drive/MyDrive/Jumana/test-after-back.csv')\n",
        "trainL =  pd.read_csv('/content/drive/MyDrive/Jumana/trainL.csv')\n",
        "testL =  pd.read_csv('/content/drive/MyDrive/Jumana/testL.csv')"
      ],
      "metadata": {
        "id": "-9U9GeTZJN3g"
      },
      "execution_count": null,
      "outputs": []
    },
    {
      "cell_type": "code",
      "execution_count": null,
      "metadata": {
        "colab": {
          "base_uri": "https://localhost:8080/"
        },
        "id": "f1T2-teII_Ci",
        "outputId": "9a692e48-25eb-4614-8dc5-c50bc8f3e538"
      },
      "outputs": [
        {
          "output_type": "execute_result",
          "data": {
            "text/plain": [
              "(2495998, 2)"
            ]
          },
          "metadata": {},
          "execution_count": 4
        }
      ],
      "source": [
        "train.shape"
      ]
    },
    {
      "cell_type": "code",
      "execution_count": null,
      "metadata": {
        "colab": {
          "base_uri": "https://localhost:8080/"
        },
        "id": "TqOekUTzJBXn",
        "outputId": "26c5aaa0-6c51-41df-d21b-dc74c166e210"
      },
      "outputs": [
        {
          "output_type": "stream",
          "name": "stdout",
          "text": [
            "<class 'pandas.core.frame.DataFrame'>\n",
            "RangeIndex: 2495998 entries, 0 to 2495997\n",
            "Data columns (total 14 columns):\n",
            " #   Column                   Dtype  \n",
            "---  ------                   -----  \n",
            " 0   Unnamed: 0               int64  \n",
            " 1   Source.Port              int64  \n",
            " 2   Destination.IP           int64  \n",
            " 3   Destination.Port         int64  \n",
            " 4   Flow.Duration            int64  \n",
            " 5   Total.Fwd.Packets        int64  \n",
            " 6   Fwd.Packet.Length.Min    int64  \n",
            " 7   Fwd.Packet.Length.Mean   float64\n",
            " 8   Flow.Bytes.s             float64\n",
            " 9   Average.Packet.Size      float64\n",
            " 10  Avg.Fwd.Segment.Size     float64\n",
            " 11  Init_Win_bytes_backward  int64  \n",
            " 12  Active.Std               float64\n",
            " 13  Label                    int64  \n",
            "dtypes: float64(5), int64(9)\n",
            "memory usage: 266.6 MB\n"
          ]
        }
      ],
      "source": [
        "train.info()"
      ]
    },
    {
      "cell_type": "code",
      "source": [
        "train.info()"
      ],
      "metadata": {
        "colab": {
          "base_uri": "https://localhost:8080/"
        },
        "id": "29rrV58RNOm-",
        "outputId": "5e689575-b7b0-4016-f150-e80a358f2733"
      },
      "execution_count": null,
      "outputs": [
        {
          "output_type": "stream",
          "name": "stdout",
          "text": [
            "<class 'pandas.core.frame.DataFrame'>\n",
            "RangeIndex: 2495998 entries, 0 to 2495997\n",
            "Data columns (total 2 columns):\n",
            " #   Column      Dtype\n",
            "---  ------      -----\n",
            " 0   Unnamed: 0  int64\n",
            " 1   L7Protocol  int64\n",
            "dtypes: int64(2)\n",
            "memory usage: 38.1 MB\n"
          ]
        }
      ]
    },
    {
      "cell_type": "code",
      "source": [
        "train.drop(columns=['Unnamed: 0'], inplace = True)\n",
        "test.drop(columns=['Unnamed: 0'], inplace = True)"
      ],
      "metadata": {
        "id": "TXdcpUktJiMR"
      },
      "execution_count": null,
      "outputs": []
    },
    {
      "cell_type": "code",
      "source": [
        "train.shape"
      ],
      "metadata": {
        "colab": {
          "base_uri": "https://localhost:8080/"
        },
        "id": "bmAeNRasJkAs",
        "outputId": "f69aaef6-1feb-48cd-e9f9-7bb2889a8cdd"
      },
      "execution_count": null,
      "outputs": [
        {
          "output_type": "execute_result",
          "data": {
            "text/plain": [
              "(2495998, 12)"
            ]
          },
          "metadata": {},
          "execution_count": 7
        }
      ]
    },
    {
      "cell_type": "code",
      "execution_count": null,
      "metadata": {
        "id": "ceV_MvyuJI4i"
      },
      "outputs": [],
      "source": [
        "#Scaling the data\n",
        "SC = StandardScaler()\n",
        "trainScaled = SC.fit_transform(train)\n",
        "#scaling test \n",
        "\n",
        "testScaled=SC.fit_transform(test) "
      ]
    },
    {
      "cell_type": "code",
      "execution_count": null,
      "metadata": {
        "id": "dKrOZZfDLNAK"
      },
      "outputs": [],
      "source": [
        "train['Label'] = trainL"
      ]
    },
    {
      "cell_type": "code",
      "execution_count": null,
      "metadata": {
        "id": "E3x4sDkYLzqb"
      },
      "outputs": [],
      "source": [
        "test['Label']= testL"
      ]
    },
    {
      "cell_type": "code",
      "source": [
        "from sklearn.ensemble import RandomForestClassifier\n",
        "clf= RandomForestClassifier(n_estimators = 10, criterion = 'entropy', random_state = 42 , n_jobs = -1 )\n",
        "clf.fit(trainScaled, train['Label']) \n",
        "\n"
      ],
      "metadata": {
        "id": "Jl8aWyByAw7F"
      },
      "execution_count": null,
      "outputs": []
    },
    {
      "cell_type": "code",
      "execution_count": null,
      "metadata": {
        "id": "3jDr4ErEmTmq"
      },
      "outputs": [],
      "source": [
        "pred = clf.predict(testScaled)"
      ]
    },
    {
      "cell_type": "code",
      "execution_count": null,
      "metadata": {
        "id": "TmhGrTH2KKtq"
      },
      "outputs": [],
      "source": [
        "print(\"Accuracy\")\n",
        "print(metrics.accuracy_score(testL, pred)) \n",
        "print(\"Macro-Precision\")\n",
        "print(metrics.precision_score(testL, pred, average = 'macro',labels= np.unique(pred)))\n",
        "print(\"Macro-Recall\")\n",
        "print(metrics.recall_score(testL, pred, average = 'macro'))\n",
        "print(\"Macro-F1Score\")\n",
        "print(metrics.f1_score(testL, pred, average = 'macro'))"
      ]
    }
  ],
  "metadata": {
    "accelerator": "TPU",
    "colab": {
      "machine_shape": "hm",
      "name": "RF.ipynb",
      "provenance": [],
      "include_colab_link": true
    },
    "kernelspec": {
      "display_name": "Python 3",
      "name": "python3"
    },
    "language_info": {
      "name": "python"
    }
  },
  "nbformat": 4,
  "nbformat_minor": 0
}