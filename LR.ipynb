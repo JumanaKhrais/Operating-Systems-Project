{
  "cells": [
    {
      "cell_type": "markdown",
      "metadata": {
        "id": "view-in-github",
        "colab_type": "text"
      },
      "source": [
        "<a href=\"https://colab.research.google.com/github/JumanaKhrais/Operating-Systems-Project/blob/main/LR.ipynb\" target=\"_parent\"><img src=\"https://colab.research.google.com/assets/colab-badge.svg\" alt=\"Open In Colab\"/></a>"
      ]
    },
    {
      "cell_type": "code",
      "execution_count": null,
      "metadata": {
        "colab": {
          "base_uri": "https://localhost:8080/"
        },
        "id": "TcV4N1TZHu-u",
        "outputId": "c7292f2e-1042-4d77-9767-97aa79bca95a"
      },
      "outputs": [
        {
          "output_type": "stream",
          "name": "stdout",
          "text": [
            "Mounted at /content/drive\n"
          ]
        }
      ],
      "source": [
        "from google.colab import drive \n",
        "drive.mount('/content/drive')"
      ]
    },
    {
      "cell_type": "code",
      "execution_count": null,
      "metadata": {
        "id": "ZFteeYjYIE_z"
      },
      "outputs": [],
      "source": [
        "import pandas as pd\n",
        "import seaborn as sns\n",
        "import matplotlib.pyplot as plt \n",
        "from sklearn import metrics \n",
        "from sklearn.preprocessing import StandardScaler\n",
        "import numpy as np\n"
      ]
    },
    {
      "cell_type": "code",
      "execution_count": null,
      "metadata": {
        "id": "6-fIMW96IIlx"
      },
      "outputs": [],
      "source": [
        "train = pd.read_csv('/content/drive/MyDrive/Jumana/train-no-l7.csv')\n",
        "test =  pd.read_csv('/content/drive/MyDrive/Jumana/test-no-l7.csv')\n",
        "trainL =  pd.read_csv('/content/drive/MyDrive/Jumana/trainL.csv')\n",
        "testL =  pd.read_csv('/content/drive/MyDrive/Jumana/testL.csv')"
      ]
    },
    {
      "cell_type": "code",
      "execution_count": null,
      "metadata": {
        "colab": {
          "base_uri": "https://localhost:8080/"
        },
        "id": "f1T2-teII_Ci",
        "outputId": "41ee01e1-6e69-4439-f024-7f5634698aba"
      },
      "outputs": [
        {
          "output_type": "execute_result",
          "data": {
            "text/plain": [
              "(2495998, 21)"
            ]
          },
          "metadata": {},
          "execution_count": 4
        }
      ],
      "source": [
        "train.shape"
      ]
    },
    {
      "cell_type": "code",
      "execution_count": null,
      "metadata": {
        "colab": {
          "base_uri": "https://localhost:8080/"
        },
        "id": "TqOekUTzJBXn",
        "outputId": "83357d96-734f-4261-f4c6-27085863240f"
      },
      "outputs": [
        {
          "output_type": "stream",
          "name": "stdout",
          "text": [
            "<class 'pandas.core.frame.DataFrame'>\n",
            "RangeIndex: 2495998 entries, 0 to 2495997\n",
            "Data columns (total 21 columns):\n",
            " #   Column                   Dtype  \n",
            "---  ------                   -----  \n",
            " 0   Source.IP                int64  \n",
            " 1   Source.Port              int64  \n",
            " 2   Destination.IP           int64  \n",
            " 3   Destination.Port         int64  \n",
            " 4   Protocol                 int64  \n",
            " 5   Flow.Duration            int64  \n",
            " 6   Total.Fwd.Packets        int64  \n",
            " 7   Total.Backward.Packets   int64  \n",
            " 8   Fwd.Packet.Length.Min    int64  \n",
            " 9   Fwd.Packet.Length.Mean   float64\n",
            " 10  Bwd.Packet.Length.Min    int64  \n",
            " 11  Bwd.Packet.Length.Mean   float64\n",
            " 12  Flow.Bytes.s             float64\n",
            " 13  Flow.IAT.Min             int64  \n",
            " 14  Average.Packet.Size      float64\n",
            " 15  Avg.Fwd.Segment.Size     float64\n",
            " 16  Init_Win_bytes_forward   int64  \n",
            " 17  Init_Win_bytes_backward  int64  \n",
            " 18  Active.Mean              float64\n",
            " 19  Active.Std               float64\n",
            " 20  Down.Up.Ratio            int64  \n",
            "dtypes: float64(7), int64(14)\n",
            "memory usage: 399.9 MB\n"
          ]
        }
      ],
      "source": [
        "train.info()"
      ]
    },
    {
      "cell_type": "code",
      "execution_count": null,
      "metadata": {
        "colab": {
          "base_uri": "https://localhost:8080/"
        },
        "id": "B-LVNGaxm7G6",
        "outputId": "670b4d45-f614-4f33-e768-43122258c101"
      },
      "outputs": [
        {
          "output_type": "execute_result",
          "data": {
            "text/plain": [
              "(1069714, 21)"
            ]
          },
          "metadata": {},
          "execution_count": 6
        }
      ],
      "source": [
        "test.shape"
      ]
    },
    {
      "cell_type": "code",
      "execution_count": null,
      "metadata": {
        "colab": {
          "base_uri": "https://localhost:8080/"
        },
        "id": "FoaOTpF8m9mz",
        "outputId": "5c310d68-ca93-4237-e73d-c8baf6c84c8d"
      },
      "outputs": [
        {
          "output_type": "stream",
          "name": "stdout",
          "text": [
            "<class 'pandas.core.frame.DataFrame'>\n",
            "RangeIndex: 1069714 entries, 0 to 1069713\n",
            "Data columns (total 21 columns):\n",
            " #   Column                   Non-Null Count    Dtype  \n",
            "---  ------                   --------------    -----  \n",
            " 0   Source.IP                1069714 non-null  int64  \n",
            " 1   Source.Port              1069714 non-null  int64  \n",
            " 2   Destination.IP           1069714 non-null  int64  \n",
            " 3   Destination.Port         1069714 non-null  int64  \n",
            " 4   Protocol                 1069714 non-null  int64  \n",
            " 5   Flow.Duration            1069714 non-null  int64  \n",
            " 6   Total.Fwd.Packets        1069714 non-null  int64  \n",
            " 7   Total.Backward.Packets   1069714 non-null  int64  \n",
            " 8   Fwd.Packet.Length.Min    1069714 non-null  int64  \n",
            " 9   Fwd.Packet.Length.Mean   1069714 non-null  float64\n",
            " 10  Bwd.Packet.Length.Min    1069714 non-null  int64  \n",
            " 11  Bwd.Packet.Length.Mean   1069714 non-null  float64\n",
            " 12  Flow.Bytes.s             1069714 non-null  float64\n",
            " 13  Flow.IAT.Min             1069714 non-null  int64  \n",
            " 14  Average.Packet.Size      1069714 non-null  float64\n",
            " 15  Avg.Fwd.Segment.Size     1069714 non-null  float64\n",
            " 16  Init_Win_bytes_forward   1069714 non-null  int64  \n",
            " 17  Init_Win_bytes_backward  1069714 non-null  int64  \n",
            " 18  Active.Mean              1069714 non-null  float64\n",
            " 19  Active.Std               1069714 non-null  float64\n",
            " 20  Down.Up.Ratio            1069714 non-null  int64  \n",
            "dtypes: float64(7), int64(14)\n",
            "memory usage: 171.4 MB\n"
          ]
        }
      ],
      "source": [
        "test.info()"
      ]
    },
    {
      "cell_type": "code",
      "execution_count": null,
      "metadata": {
        "id": "ceV_MvyuJI4i"
      },
      "outputs": [],
      "source": [
        "#Scaling the data\n",
        "SC = StandardScaler()\n",
        "trainScaled = SC.fit_transform(train)\n",
        "#scaling test \n",
        "\n",
        "testScaled=SC.fit_transform(test) "
      ]
    },
    {
      "cell_type": "code",
      "execution_count": null,
      "metadata": {
        "id": "dKrOZZfDLNAK"
      },
      "outputs": [],
      "source": [
        "train['Label'] = trainL"
      ]
    },
    {
      "cell_type": "code",
      "execution_count": null,
      "metadata": {
        "id": "E3x4sDkYLzqb"
      },
      "outputs": [],
      "source": [
        "test['Label']= testL"
      ]
    },
    {
      "cell_type": "code",
      "source": [
        "train.info()"
      ],
      "metadata": {
        "colab": {
          "base_uri": "https://localhost:8080/"
        },
        "id": "Ymr7lFJD6tcd",
        "outputId": "acd128ab-a361-472d-9c46-89456bbd4fe1"
      },
      "execution_count": null,
      "outputs": [
        {
          "output_type": "stream",
          "name": "stdout",
          "text": [
            "<class 'pandas.core.frame.DataFrame'>\n",
            "RangeIndex: 2495998 entries, 0 to 2495997\n",
            "Data columns (total 22 columns):\n",
            " #   Column                   Dtype  \n",
            "---  ------                   -----  \n",
            " 0   Source.IP                int64  \n",
            " 1   Source.Port              int64  \n",
            " 2   Destination.IP           int64  \n",
            " 3   Destination.Port         int64  \n",
            " 4   Protocol                 int64  \n",
            " 5   Flow.Duration            int64  \n",
            " 6   Total.Fwd.Packets        int64  \n",
            " 7   Total.Backward.Packets   int64  \n",
            " 8   Fwd.Packet.Length.Min    int64  \n",
            " 9   Fwd.Packet.Length.Mean   float64\n",
            " 10  Bwd.Packet.Length.Min    int64  \n",
            " 11  Bwd.Packet.Length.Mean   float64\n",
            " 12  Flow.Bytes.s             float64\n",
            " 13  Flow.IAT.Min             int64  \n",
            " 14  Average.Packet.Size      float64\n",
            " 15  Avg.Fwd.Segment.Size     float64\n",
            " 16  Init_Win_bytes_forward   int64  \n",
            " 17  Init_Win_bytes_backward  int64  \n",
            " 18  Active.Mean              float64\n",
            " 19  Active.Std               float64\n",
            " 20  Down.Up.Ratio            int64  \n",
            " 21  Label                    int64  \n",
            "dtypes: float64(7), int64(15)\n",
            "memory usage: 418.9 MB\n"
          ]
        }
      ]
    },
    {
      "cell_type": "code",
      "source": [
        "test.info()"
      ],
      "metadata": {
        "colab": {
          "base_uri": "https://localhost:8080/"
        },
        "id": "3lYp9Mqs6xml",
        "outputId": "2627e08f-b229-4de8-8074-0a019900680a"
      },
      "execution_count": null,
      "outputs": [
        {
          "output_type": "stream",
          "name": "stdout",
          "text": [
            "<class 'pandas.core.frame.DataFrame'>\n",
            "RangeIndex: 1069714 entries, 0 to 1069713\n",
            "Data columns (total 22 columns):\n",
            " #   Column                   Non-Null Count    Dtype  \n",
            "---  ------                   --------------    -----  \n",
            " 0   Source.IP                1069714 non-null  int64  \n",
            " 1   Source.Port              1069714 non-null  int64  \n",
            " 2   Destination.IP           1069714 non-null  int64  \n",
            " 3   Destination.Port         1069714 non-null  int64  \n",
            " 4   Protocol                 1069714 non-null  int64  \n",
            " 5   Flow.Duration            1069714 non-null  int64  \n",
            " 6   Total.Fwd.Packets        1069714 non-null  int64  \n",
            " 7   Total.Backward.Packets   1069714 non-null  int64  \n",
            " 8   Fwd.Packet.Length.Min    1069714 non-null  int64  \n",
            " 9   Fwd.Packet.Length.Mean   1069714 non-null  float64\n",
            " 10  Bwd.Packet.Length.Min    1069714 non-null  int64  \n",
            " 11  Bwd.Packet.Length.Mean   1069714 non-null  float64\n",
            " 12  Flow.Bytes.s             1069714 non-null  float64\n",
            " 13  Flow.IAT.Min             1069714 non-null  int64  \n",
            " 14  Average.Packet.Size      1069714 non-null  float64\n",
            " 15  Avg.Fwd.Segment.Size     1069714 non-null  float64\n",
            " 16  Init_Win_bytes_forward   1069714 non-null  int64  \n",
            " 17  Init_Win_bytes_backward  1069714 non-null  int64  \n",
            " 18  Active.Mean              1069714 non-null  float64\n",
            " 19  Active.Std               1069714 non-null  float64\n",
            " 20  Down.Up.Ratio            1069714 non-null  int64  \n",
            " 21  Label                    1069714 non-null  int64  \n",
            "dtypes: float64(7), int64(15)\n",
            "memory usage: 179.5 MB\n"
          ]
        }
      ]
    },
    {
      "cell_type": "code",
      "execution_count": null,
      "metadata": {
        "id": "4DifGGhlKCuK",
        "colab": {
          "base_uri": "https://localhost:8080/"
        },
        "outputId": "c612bf75-88f3-4696-c248-09c32933b7e9"
      },
      "outputs": [
        {
          "output_type": "stream",
          "name": "stderr",
          "text": [
            "/usr/local/lib/python3.7/dist-packages/sklearn/linear_model/_sag.py:354: ConvergenceWarning: The max_iter was reached which means the coef_ did not converge\n",
            "  ConvergenceWarning,\n"
          ]
        },
        {
          "output_type": "execute_result",
          "data": {
            "text/plain": [
              "LogisticRegression(max_iter=200, multi_class='multinomial', solver='saga')"
            ]
          },
          "metadata": {},
          "execution_count": 13
        }
      ],
      "source": [
        "from sklearn.linear_model import LogisticRegression\n",
        "clf = LogisticRegression(multi_class='multinomial', solver='saga', max_iter = 200)\n",
        "clf.fit(trainScaled, train['Label']) "
      ]
    },
    {
      "cell_type": "code",
      "execution_count": null,
      "metadata": {
        "id": "3jDr4ErEmTmq"
      },
      "outputs": [],
      "source": [
        "pred = clf.predict(testScaled)"
      ]
    },
    {
      "cell_type": "code",
      "execution_count": null,
      "metadata": {
        "id": "TmhGrTH2KKtq"
      },
      "outputs": [],
      "source": [
        "print(\"Accuracy\")\n",
        "print(metrics.accuracy_score(testL, pred)) \n",
        "print(\"Macro-Precision\")\n",
        "print(metrics.precision_score(testL, pred, average = 'macro',labels= np.unique(pred)))\n",
        "print(\"Macro-Recall\")\n",
        "print(metrics.recall_score(testL, pred, average = 'macro'))\n",
        "print(\"Macro-F1Score\")\n",
        "print(metrics.f1_score(testL, pred, average = 'macro'))"
      ]
    },
    {
      "cell_type": "code",
      "execution_count": null,
      "metadata": {
        "id": "W4t3nczVKJvJ"
      },
      "outputs": [],
      "source": [
        "\"\"\"import pickle\n",
        "# save the model to drive\n",
        "filename = '/content/drive/MyDrive/Jumana/Log.sav'\n",
        "pickle.dump(clf, open(filename, 'wb'))\"\"\"\n"
      ]
    }
  ],
  "metadata": {
    "accelerator": "TPU",
    "colab": {
      "machine_shape": "hm",
      "name": "LR.ipynb",
      "provenance": [],
      "include_colab_link": true
    },
    "kernelspec": {
      "display_name": "Python 3",
      "name": "python3"
    },
    "language_info": {
      "name": "python"
    }
  },
  "nbformat": 4,
  "nbformat_minor": 0
}