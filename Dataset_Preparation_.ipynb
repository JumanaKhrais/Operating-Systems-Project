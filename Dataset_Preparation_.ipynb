{
  "nbformat": 4,
  "nbformat_minor": 0,
  "metadata": {
    "colab": {
      "name": "Dataset-Preparation .ipynb",
      "provenance": [],
      "authorship_tag": "ABX9TyPeguC/21ndiWj7RxsK24Ek",
      "include_colab_link": true
    },
    "kernelspec": {
      "name": "python3",
      "display_name": "Python 3"
    },
    "language_info": {
      "name": "python"
    }
  },
  "cells": [
    {
      "cell_type": "markdown",
      "metadata": {
        "id": "view-in-github",
        "colab_type": "text"
      },
      "source": [
        "<a href=\"https://colab.research.google.com/github/JumanaKhrais/Operating-Systems-Project/blob/main/Dataset_Preparation_.ipynb\" target=\"_parent\"><img src=\"https://colab.research.google.com/assets/colab-badge.svg\" alt=\"Open In Colab\"/></a>"
      ]
    },
    {
      "cell_type": "markdown",
      "source": [
        "**Mounting Drive**"
      ],
      "metadata": {
        "id": "ChN-G_BuPD0Q"
      }
    },
    {
      "cell_type": "code",
      "execution_count": 6,
      "metadata": {
        "id": "5dtoaEtKK5mp",
        "colab": {
          "base_uri": "https://localhost:8080/"
        },
        "outputId": "33ff6bf1-4577-45f9-e0c0-9a43e40d2452"
      },
      "outputs": [
        {
          "output_type": "stream",
          "name": "stdout",
          "text": [
            "Drive already mounted at /content/drive; to attempt to forcibly remount, call drive.mount(\"/content/drive\", force_remount=True).\n"
          ]
        }
      ],
      "source": [
        "from google.colab import drive \n",
        "drive.mount('/content/drive')"
      ]
    },
    {
      "cell_type": "code",
      "source": [
        "import pandas as pd\n",
        "import seaborn as sns\n",
        "import matplotlib.pyplot as plt \n",
        "from sklearn import preprocessing\n"
      ],
      "metadata": {
        "id": "Hyt676Tz-Jb7"
      },
      "execution_count": null,
      "outputs": []
    },
    {
      "cell_type": "code",
      "source": [
        "data = pd.read_csv('/content/drive/MyDrive/Operating-Systems-Project-Code/Dataset-OS-Final.csv')"
      ],
      "metadata": {
        "id": "BTU3gjxsNA9_"
      },
      "execution_count": 31,
      "outputs": []
    },
    {
      "cell_type": "code",
      "source": [
        "data.shape"
      ],
      "metadata": {
        "colab": {
          "base_uri": "https://localhost:8080/"
        },
        "id": "PWSGZQ5bNAE5",
        "outputId": "a8d75ad1-909f-4ffd-8666-bd14838df5d7"
      },
      "execution_count": 32,
      "outputs": [
        {
          "output_type": "execute_result",
          "data": {
            "text/plain": [
              "(3577296, 24)"
            ]
          },
          "metadata": {},
          "execution_count": 32
        }
      ]
    },
    {
      "cell_type": "code",
      "source": [
        "data.info()"
      ],
      "metadata": {
        "id": "bWxpW82-NVzf"
      },
      "execution_count": null,
      "outputs": []
    },
    {
      "cell_type": "code",
      "source": [
        "data.head()"
      ],
      "metadata": {
        "id": "ky9DqEkHNY1v"
      },
      "execution_count": null,
      "outputs": []
    },
    {
      "cell_type": "markdown",
      "source": [
        "**Dropping the ID column as it is unique value for each instance**"
      ],
      "metadata": {
        "id": "YbyhcwW-OWqb"
      }
    },
    {
      "cell_type": "code",
      "source": [
        "data.drop(columns= ['Flow.ID'], inplace = True)"
      ],
      "metadata": {
        "id": "2ihWOmdPPCx4"
      },
      "execution_count": 33,
      "outputs": []
    },
    {
      "cell_type": "code",
      "source": [
        "data.shape"
      ],
      "metadata": {
        "colab": {
          "base_uri": "https://localhost:8080/"
        },
        "id": "JLHGfp_YPRav",
        "outputId": "0faf02f5-97d5-4635-c82a-d3f8125b4965"
      },
      "execution_count": 34,
      "outputs": [
        {
          "output_type": "execute_result",
          "data": {
            "text/plain": [
              "(3577296, 23)"
            ]
          },
          "metadata": {},
          "execution_count": 34
        }
      ]
    },
    {
      "cell_type": "markdown",
      "source": [
        "**Encoding the non-numeric columns : Source.IP // Destination.IP // ProtocolName**"
      ],
      "metadata": {
        "id": "ajw7bTKMPvDf"
      }
    },
    {
      "cell_type": "code",
      "source": [
        "le = preprocessing.LabelEncoder()\n",
        "le.fit(data['Source.IP'])\n",
        "data['Source.IP']=le.transform(data['Source.IP'])"
      ],
      "metadata": {
        "id": "0Yu5s2LNPuig"
      },
      "execution_count": 35,
      "outputs": []
    },
    {
      "cell_type": "code",
      "source": [
        "le = preprocessing.LabelEncoder()\n",
        "le.fit(data['Destination.IP'])\n",
        "data['Destination.IP']=le.transform(data['Destination.IP'])"
      ],
      "metadata": {
        "id": "CfIFKucpMHQK"
      },
      "execution_count": 36,
      "outputs": []
    },
    {
      "cell_type": "code",
      "source": [
        "le = preprocessing.LabelEncoder()\n",
        "le.fit(data['ProtocolName'])\n",
        "data['ProtocolName']=le.transform(data['ProtocolName'])"
      ],
      "metadata": {
        "id": "_xxkrVzsQQ1v"
      },
      "execution_count": 37,
      "outputs": []
    },
    {
      "cell_type": "code",
      "source": [
        "data.head(20)"
      ],
      "metadata": {
        "id": "tjH9RzvFQbev"
      },
      "execution_count": null,
      "outputs": []
    },
    {
      "cell_type": "markdown",
      "source": [
        "**Removing Duplicates**"
      ],
      "metadata": {
        "id": "fwrA0v46RBjY"
      }
    },
    {
      "cell_type": "code",
      "source": [
        "data.shape"
      ],
      "metadata": {
        "colab": {
          "base_uri": "https://localhost:8080/"
        },
        "id": "j8GxCA6BRWHo",
        "outputId": "add5bd76-7662-4ece-c8c1-cc8d4fe28c21"
      },
      "execution_count": null,
      "outputs": [
        {
          "output_type": "execute_result",
          "data": {
            "text/plain": [
              "(3577296, 23)"
            ]
          },
          "metadata": {},
          "execution_count": 42
        }
      ]
    },
    {
      "cell_type": "code",
      "source": [
        "data.drop_duplicates(inplace=True)\n"
      ],
      "metadata": {
        "id": "WIjfytL8RF_m"
      },
      "execution_count": 38,
      "outputs": []
    },
    {
      "cell_type": "code",
      "source": [
        "data.shape"
      ],
      "metadata": {
        "colab": {
          "base_uri": "https://localhost:8080/"
        },
        "id": "mIbWKO6xRagO",
        "outputId": "d11fc54d-75d0-4627-debe-d99257f07e1b"
      },
      "execution_count": null,
      "outputs": [
        {
          "output_type": "execute_result",
          "data": {
            "text/plain": [
              "(3565712, 23)"
            ]
          },
          "metadata": {},
          "execution_count": 44
        }
      ]
    },
    {
      "cell_type": "markdown",
      "source": [
        "**Siplitting the dataset**"
      ],
      "metadata": {
        "id": "UxoJ8C8DLsfl"
      }
    },
    {
      "cell_type": "code",
      "source": [
        "X = data.drop(columns=['ProtocolName'])\n",
        "y= data['ProtocolName']\n"
      ],
      "metadata": {
        "id": "KlTtfmFroQP0"
      },
      "execution_count": 40,
      "outputs": []
    },
    {
      "cell_type": "code",
      "source": [
        "\"\"\"from sklearn.model_selection import train_test_split\n",
        "train, test, trainL, testL = train_test_split(X, y, test_size=0.3, random_state=1, shuffle = True)\n",
        "\"\"\""
      ],
      "metadata": {
        "id": "vQEnOQnzoZvI"
      },
      "execution_count": 41,
      "outputs": []
    },
    {
      "cell_type": "code",
      "source": [
        "\"\"\"train.to_csv (r'/content/drive/MyDrive/Operating-Systems-Project-Code/train.csv', index = False) \n",
        "test.to_csv (r'/content/drive/MyDrive/Operating-Systems-Project-Code/test.csv', index = False) \n",
        "trainL.to_csv (r'/content/drive/MyDrive/Operating-Systems-Project-Code/trainL.csv', index = False) \n",
        "testL.to_csv (r'/content/drive/MyDrive/Operating-Systems-Project-Code/testL.csv', index = False) \n",
        "\"\"\""
      ],
      "metadata": {
        "id": "J_JAm8UKq4Qc"
      },
      "execution_count": 43,
      "outputs": []
    },
    {
      "cell_type": "code",
      "source": [
        "train = pd.read_csv('/content/drive/MyDrive/Operating-Systems-Project-Code/train.csv')\n",
        "test = pd.read_csv('/content/drive/MyDrive/Operating-Systems-Project-Code/test.csv')\n",
        "trainL = pd.read_csv('/content/drive/MyDrive/Operating-Systems-Project-Code/trainL.csv')\n",
        "testL = pd.read_csv('/content/drive/MyDrive/Operating-Systems-Project-Code/testL.csv')"
      ],
      "metadata": {
        "id": "M38YaBqNrLOG"
      },
      "execution_count": 44,
      "outputs": []
    }
  ]
}