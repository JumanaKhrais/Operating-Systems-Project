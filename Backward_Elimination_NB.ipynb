{
  "cells": [
    {
      "cell_type": "markdown",
      "metadata": {
        "id": "view-in-github",
        "colab_type": "text"
      },
      "source": [
        "<a href=\"https://colab.research.google.com/github/JumanaKhrais/Operating-Systems-Project/blob/main/Backward_Elimination_NB.ipynb\" target=\"_parent\"><img src=\"https://colab.research.google.com/assets/colab-badge.svg\" alt=\"Open In Colab\"/></a>"
      ]
    },
    {
      "cell_type": "code",
      "execution_count": null,
      "metadata": {
        "colab": {
          "base_uri": "https://localhost:8080/"
        },
        "id": "TcV4N1TZHu-u",
        "outputId": "588a46c3-45a4-4a78-c665-d9134deec16b"
      },
      "outputs": [
        {
          "output_type": "stream",
          "name": "stdout",
          "text": [
            "Mounted at /content/drive\n"
          ]
        }
      ],
      "source": [
        "from google.colab import drive \n",
        "drive.mount('/content/drive')"
      ]
    },
    {
      "cell_type": "code",
      "execution_count": null,
      "metadata": {
        "id": "ZFteeYjYIE_z"
      },
      "outputs": [],
      "source": [
        "import pandas as pd\n",
        "import seaborn as sns\n",
        "import matplotlib.pyplot as plt \n",
        "from sklearn import metrics \n",
        "from sklearn.preprocessing import StandardScaler\n",
        "import numpy as np\n"
      ]
    },
    {
      "cell_type": "code",
      "execution_count": null,
      "metadata": {
        "id": "6-fIMW96IIlx"
      },
      "outputs": [],
      "source": [
        "train = pd.read_csv('/content/drive/MyDrive/Jumana/train.csv')\n",
        "test =  pd.read_csv('/content/drive/MyDrive/Jumana/test.csv')\n",
        "trainL =  pd.read_csv('/content/drive/MyDrive/Jumana/trainL.csv')\n",
        "testL =  pd.read_csv('/content/drive/MyDrive/Jumana/testL.csv')"
      ]
    },
    {
      "cell_type": "code",
      "execution_count": null,
      "metadata": {
        "colab": {
          "base_uri": "https://localhost:8080/"
        },
        "id": "f1T2-teII_Ci",
        "outputId": "bab77f3d-e54a-4727-dc34-71b85642f688"
      },
      "outputs": [
        {
          "output_type": "execute_result",
          "data": {
            "text/plain": [
              "(2495998, 22)"
            ]
          },
          "metadata": {},
          "execution_count": 4
        }
      ],
      "source": [
        "train.shape"
      ]
    },
    {
      "cell_type": "code",
      "execution_count": null,
      "metadata": {
        "colab": {
          "base_uri": "https://localhost:8080/"
        },
        "id": "TqOekUTzJBXn",
        "outputId": "8c30f8d7-1e3b-4735-981d-8f71c82133ef"
      },
      "outputs": [
        {
          "output_type": "stream",
          "name": "stdout",
          "text": [
            "<class 'pandas.core.frame.DataFrame'>\n",
            "RangeIndex: 2495998 entries, 0 to 2495997\n",
            "Data columns (total 22 columns):\n",
            " #   Column                   Dtype  \n",
            "---  ------                   -----  \n",
            " 0   Source.IP                int64  \n",
            " 1   Source.Port              int64  \n",
            " 2   Destination.IP           int64  \n",
            " 3   Destination.Port         int64  \n",
            " 4   Protocol                 int64  \n",
            " 5   Flow.Duration            int64  \n",
            " 6   Total.Fwd.Packets        int64  \n",
            " 7   Total.Backward.Packets   int64  \n",
            " 8   Fwd.Packet.Length.Min    int64  \n",
            " 9   Fwd.Packet.Length.Mean   float64\n",
            " 10  Bwd.Packet.Length.Min    int64  \n",
            " 11  Bwd.Packet.Length.Mean   float64\n",
            " 12  Flow.Bytes.s             float64\n",
            " 13  Flow.IAT.Min             int64  \n",
            " 14  Average.Packet.Size      float64\n",
            " 15  Avg.Fwd.Segment.Size     float64\n",
            " 16  Init_Win_bytes_forward   int64  \n",
            " 17  Init_Win_bytes_backward  int64  \n",
            " 18  Active.Mean              float64\n",
            " 19  Active.Std               float64\n",
            " 20  Down.Up.Ratio            int64  \n",
            " 21  L7Protocol               int64  \n",
            "dtypes: float64(7), int64(15)\n",
            "memory usage: 418.9 MB\n"
          ]
        }
      ],
      "source": [
        "train.info()"
      ]
    },
    {
      "cell_type": "code",
      "source": [
        "train.columns"
      ],
      "metadata": {
        "colab": {
          "base_uri": "https://localhost:8080/"
        },
        "id": "l2tkJuMJsZWK",
        "outputId": "0c1ed864-daa0-4c76-f5ce-684dbe70ed1d"
      },
      "execution_count": null,
      "outputs": [
        {
          "output_type": "execute_result",
          "data": {
            "text/plain": [
              "Index(['Source.IP', 'Source.Port', 'Destination.IP', 'Destination.Port',\n",
              "       'Protocol', 'Flow.Duration', 'Total.Fwd.Packets',\n",
              "       'Total.Backward.Packets', 'Fwd.Packet.Length.Min',\n",
              "       'Fwd.Packet.Length.Mean', 'Bwd.Packet.Length.Min',\n",
              "       'Bwd.Packet.Length.Mean', 'Flow.Bytes.s', 'Flow.IAT.Min',\n",
              "       'Average.Packet.Size', 'Avg.Fwd.Segment.Size', 'Init_Win_bytes_forward',\n",
              "       'Init_Win_bytes_backward', 'Active.Mean', 'Active.Std', 'Down.Up.Ratio',\n",
              "       'L7Protocol'],\n",
              "      dtype='object')"
            ]
          },
          "metadata": {},
          "execution_count": 6
        }
      ]
    },
    {
      "cell_type": "code",
      "source": [
        "train.shape"
      ],
      "metadata": {
        "colab": {
          "base_uri": "https://localhost:8080/"
        },
        "id": "wnOkpD4Ot6FZ",
        "outputId": "3621c052-2175-40a8-fc7f-77086e87b76d"
      },
      "execution_count": null,
      "outputs": [
        {
          "output_type": "execute_result",
          "data": {
            "text/plain": [
              "(2495998, 1)"
            ]
          },
          "metadata": {},
          "execution_count": 8
        }
      ]
    },
    {
      "cell_type": "code",
      "source": [
        "test.shape"
      ],
      "metadata": {
        "colab": {
          "base_uri": "https://localhost:8080/"
        },
        "id": "1X5lQLkzSP3b",
        "outputId": "87ad1024-a4e6-4337-e483-e24e3135a590"
      },
      "execution_count": null,
      "outputs": [
        {
          "output_type": "execute_result",
          "data": {
            "text/plain": [
              "(1069714, 1)"
            ]
          },
          "metadata": {},
          "execution_count": 9
        }
      ]
    },
    {
      "cell_type": "code",
      "execution_count": null,
      "metadata": {
        "id": "ceV_MvyuJI4i"
      },
      "outputs": [],
      "source": [
        "#Scaling the data\n",
        "SC = StandardScaler()\n",
        "trainScaled = SC.fit_transform(train)\n",
        "#scaling test \n",
        "\n",
        "testScaled=SC.fit_transform(test) "
      ]
    },
    {
      "cell_type": "code",
      "execution_count": null,
      "metadata": {
        "id": "dKrOZZfDLNAK"
      },
      "outputs": [],
      "source": [
        "train['Label'] = trainL"
      ]
    },
    {
      "cell_type": "code",
      "execution_count": null,
      "metadata": {
        "id": "E3x4sDkYLzqb"
      },
      "outputs": [],
      "source": [
        "test['Label']= testL"
      ]
    },
    {
      "cell_type": "code",
      "source": [
        "from sklearn.naive_bayes import GaussianNB\n",
        "model = GaussianNB()\n",
        "model.fit(trainScaled,train['Label'])"
      ],
      "metadata": {
        "colab": {
          "base_uri": "https://localhost:8080/"
        },
        "id": "GmbpEKZqAvM4",
        "outputId": "29b7213a-d264-4b04-ce6a-9d61e166f122"
      },
      "execution_count": null,
      "outputs": [
        {
          "output_type": "execute_result",
          "data": {
            "text/plain": [
              "GaussianNB()"
            ]
          },
          "metadata": {},
          "execution_count": 11
        }
      ]
    },
    {
      "cell_type": "code",
      "execution_count": null,
      "metadata": {
        "id": "3jDr4ErEmTmq"
      },
      "outputs": [],
      "source": [
        "pred = model.predict(testScaled)"
      ]
    },
    {
      "cell_type": "code",
      "execution_count": null,
      "metadata": {
        "colab": {
          "base_uri": "https://localhost:8080/"
        },
        "id": "TmhGrTH2KKtq",
        "outputId": "40d0deae-f9b7-4d0d-c5c6-545f46c813b2"
      },
      "outputs": [
        {
          "output_type": "stream",
          "name": "stdout",
          "text": [
            "Accuracy\n",
            "0.999998130341381\n",
            "Macro-Precision\n",
            "0.999574441719712\n",
            "Macro-Recall\n",
            "0.9736842105263158\n",
            "Macro-F1Score\n",
            "0.9734745293868117\n"
          ]
        }
      ],
      "source": [
        "print(\"Accuracy\")\n",
        "print(metrics.accuracy_score(testL, pred)) \n",
        "print(\"Macro-Precision\")\n",
        "print(metrics.precision_score(testL, pred, average = 'macro',labels= np.unique(pred)))\n",
        "print(\"Macro-Recall\")\n",
        "print(metrics.recall_score(testL, pred, average = 'macro'))\n",
        "print(\"Macro-F1Score\")\n",
        "print(metrics.f1_score(testL, pred, average = 'macro'))"
      ]
    },
    {
      "cell_type": "code",
      "execution_count": null,
      "metadata": {
        "id": "W4t3nczVKJvJ",
        "colab": {
          "base_uri": "https://localhost:8080/",
          "height": 35
        },
        "outputId": "f90f90ea-1e76-48a8-b24b-5255b08367f9"
      },
      "outputs": [
        {
          "output_type": "execute_result",
          "data": {
            "text/plain": [
              "\"import pickle\\n# save the model to drive\\nfilename = '/content/drive/MyDrive/Jumana/Log.sav'\\npickle.dump(model, open(filename, 'wb'))\\n\""
            ],
            "application/vnd.google.colaboratory.intrinsic+json": {
              "type": "string"
            }
          },
          "metadata": {},
          "execution_count": 68
        }
      ],
      "source": [
        "\"\"\"import pickle\n",
        "# save the model to drive\n",
        "filename = '/content/drive/MyDrive/Jumana/Log.sav'\n",
        "pickle.dump(model, open(filename, 'wb'))\n",
        "\"\"\""
      ]
    }
  ],
  "metadata": {
    "accelerator": "TPU",
    "colab": {
      "machine_shape": "hm",
      "name": "Backward_Elimination-NB.ipynb",
      "provenance": [],
      "collapsed_sections": [],
      "include_colab_link": true
    },
    "kernelspec": {
      "display_name": "Python 3",
      "name": "python3"
    },
    "language_info": {
      "name": "python"
    }
  },
  "nbformat": 4,
  "nbformat_minor": 0
}